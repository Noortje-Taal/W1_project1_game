{
 "cells": [
  {
   "cell_type": "code",
   "execution_count": 1,
   "metadata": {},
   "outputs": [
    {
     "data": {
      "text/plain": [
       "'Project week 1 - Guess the number game'"
      ]
     },
     "execution_count": 1,
     "metadata": {},
     "output_type": "execute_result"
    }
   ],
   "source": [
    "'''Project week 1 - Guess the number game'''"
   ]
  },
  {
   "cell_type": "code",
   "execution_count": 2,
   "metadata": {},
   "outputs": [],
   "source": [
    "# importing required libraries\n",
    "from random import randint\n",
    "from PIL import Image\n",
    "\n",
    "# random nummer\n",
    "random_number = randint(0, 100) \n",
    "\n",
    "# welcome \n",
    "def welcome_game():\n",
    "    name = input(\"Hi! Welcome to the game 'Guess the number' \\nLet me introduce myself: I am Noortje\\n \\nWho are you?\\n\\n\")\n",
    "    print(\"\\nWhat a pleasure to meet you\", name, \"\\n'Guess the number' is a game in which I will think of a number between 0-100 and you will guess which number it is \\nYou can guess 8 times\")\n",
    "    \n",
    "    while True: \n",
    "        try:\n",
    "            yes_no = input(\"\\nDo you want to play the game?\\n\\n\") \n",
    "        except ValueError: \n",
    "            continue\n",
    "        \n",
    "        if yes_no == 'yes' or yes_no == 'Yes'or yes_no == 'YES':\n",
    "            return 0\n",
    "            break\n",
    "        elif yes_no == 'no' or yes_no == 'No' or yes_no == 'NO':\n",
    "            print(\"\\nWhat a pity! See you next time and have a nice day\", name)\n",
    "            return 1 \n",
    "            break\n",
    "        else: \n",
    "            print(\"\\nI don't understand you, you have to chose yes or no\")\n",
    "\n",
    "# player guess  \n",
    "def player_guess():\n",
    "    while True: \n",
    "        try:\n",
    "            play_guess = int(input(\"Pick a number between 0 and 100: \")) \n",
    "        except ValueError: \n",
    "            continue\n",
    "        \n",
    "        if play_guess >= 0 and play_guess <= 100:\n",
    "            return play_guess\n",
    "            break\n",
    "        else: \n",
    "            print(\"You have to pick a number between 0 and 100, try again!\") \n",
    "\n",
    "# compare random number & player guess \n",
    "def comparison():\n",
    "    guess = player_guess()\n",
    "    if guess != random_number: \n",
    "        if guess > random_number:                 \n",
    "            print(\"Your guess is not correct, the number is smaller than\", guess, \"\\nTry again!\\n\")\n",
    "            return 0\n",
    "        elif guess < random_number:  \n",
    "            print(\"Your guess is not correct, the number is greater than\", guess, \"\\nTry again!\\n\")\n",
    "            return 0 \n",
    "    else:\n",
    "        return 1 \n",
    "    \n",
    "# play the game \n",
    "def play():\n",
    "    welcome = welcome_game()  \n",
    "    if welcome == 0:\n",
    "        print (\"Great! Let's play!\\n\") \n",
    "            \n",
    "        wrong = 0 # wrong guess\n",
    "        right = 0 # good guess\n",
    "            \n",
    "        for i in range(8): # max 8 games to guess \n",
    "            compare = comparison() \n",
    "            if compare == 0:\n",
    "                wrong += 1\n",
    "            elif compare == 1:\n",
    "                right += 1\n",
    "\n",
    "            if wrong == 8: \n",
    "                print (\"GAME OVER \\nYou can only guess 8 times\")\n",
    "                break\n",
    "            elif right == 1:\n",
    "                print (\"You guessed the right number, YOU WIN! \\nThe number was indeed\", random_number) \n",
    "                img = Image.open(\"/Users/noortjetaal/Desktop/winner.png\")\n",
    "                img.show() \n",
    "                break \n"
   ]
  },
  {
   "cell_type": "code",
   "execution_count": 3,
   "metadata": {},
   "outputs": [
    {
     "name": "stdout",
     "output_type": "stream",
     "text": [
      "Hi! Welcome to the game 'Guess the number' \n",
      "Let me introduce myself: I am Noortje\n",
      " \n",
      "Who are you?\n",
      "\n",
      "Jan\n",
      "\n",
      "What a pleasure to meet you Jan \n",
      "'Guess the number' is a game in which I will think of a number between 0-100 and you will guess which number it is \n",
      "You can guess 8 times\n",
      "\n",
      "Do you want to play the game?\n",
      "\n",
      "Yes\n",
      "Great! Let's play!\n",
      "\n",
      "Pick a number between 0 and 100: 50\n",
      "Your guess is not correct, the number is greater than 50 \n",
      "Try again!\n",
      "\n",
      "Pick a number between 0 and 100: 70\n",
      "Your guess is not correct, the number is greater than 70 \n",
      "Try again!\n",
      "\n",
      "Pick a number between 0 and 100: 80\n",
      "Your guess is not correct, the number is greater than 80 \n",
      "Try again!\n",
      "\n",
      "Pick a number between 0 and 100: 90\n",
      "Your guess is not correct, the number is greater than 90 \n",
      "Try again!\n",
      "\n",
      "Pick a number between 0 and 100: 97\n",
      "Your guess is not correct, the number is greater than 97 \n",
      "Try again!\n",
      "\n",
      "Pick a number between 0 and 100: 99\n",
      "Your guess is not correct, the number is greater than 99 \n",
      "Try again!\n",
      "\n",
      "Pick a number between 0 and 100: 100\n",
      "You guessed the right number, YOU WIN! \n",
      "The number was indeed 100\n"
     ]
    }
   ],
   "source": [
    "play()\n"
   ]
  },
  {
   "cell_type": "code",
   "execution_count": null,
   "metadata": {},
   "outputs": [],
   "source": []
  }
 ],
 "metadata": {
  "kernelspec": {
   "display_name": "Python 3",
   "language": "python",
   "name": "python3"
  },
  "language_info": {
   "codemirror_mode": {
    "name": "ipython",
    "version": 3
   },
   "file_extension": ".py",
   "mimetype": "text/x-python",
   "name": "python",
   "nbconvert_exporter": "python",
   "pygments_lexer": "ipython3",
   "version": "3.7.3"
  }
 },
 "nbformat": 4,
 "nbformat_minor": 2
}
